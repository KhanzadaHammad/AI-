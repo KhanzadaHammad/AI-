{
  "nbformat": 4,
  "nbformat_minor": 0,
  "metadata": {
    "colab": {
      "name": "Untitled1.ipynb",
      "provenance": [],
      "collapsed_sections": []
    },
    "kernelspec": {
      "name": "python3",
      "display_name": "Python 3"
    },
    "language_info": {
      "name": "python"
    }
  },
  "cells": [
    {
      "cell_type": "code",
      "execution_count": null,
      "metadata": {
        "id": "FxBIN5YhOeG7"
      },
      "outputs": [],
      "source": [
        "#mean:\n",
        "def mean(values):\n",
        "  return sum(values)/len(values)"
      ]
    },
    {
      "cell_type": "code",
      "source": [
        "#variance:\n",
        "def variance(values,mean):\n",
        "  res=sum([(x-mean)**2 for x in values])\n",
        "  return res"
      ],
      "metadata": {
        "id": "RW55Q5mdT23T"
      },
      "execution_count": null,
      "outputs": []
    },
    {
      "cell_type": "code",
      "source": [
        "dataset=[[1,1],[2,3],[4,3],[3,2],[5,5]]\n",
        "x=[row[0] for row in dataset]\n",
        "y=[row[1] for row in dataset]\n",
        "mean_x,mean_y=mean(x),mean(y)\n",
        "variance_x,variance_y=variance(x,mean_x),variance(y,mean_y)\n",
        "print(\"mean x is: %.3f variance y is: %.3f\"%(mean_x,variance_x))\n",
        "print(\"mean y is: %.3f variance y is: %.3f\"%(mean_y,variance_y))"
      ],
      "metadata": {
        "colab": {
          "base_uri": "https://localhost:8080/"
        },
        "id": "uyfR-BfSYBVc",
        "outputId": "d8e025de-1acd-4934-dc90-0cbf4b0b66e6"
      },
      "execution_count": null,
      "outputs": [
        {
          "output_type": "stream",
          "name": "stdout",
          "text": [
            "mean x is: 3.000 variance y is: 10.000\n",
            "mean y is: 2.800 variance y is: 8.800\n"
          ]
        }
      ]
    },
    {
      "cell_type": "code",
      "source": [
        "#covariance:\n",
        "def covariance(a,mean_a,b,mean_b):\n",
        "  cov=0.0\n",
        "  for i in range(len(a)):\n",
        "    cov=cov+((a[i]-mean_a)*(b[i]-mean_b))\n",
        "  return cov"
      ],
      "metadata": {
        "id": "pw0LilQ3YsOv"
      },
      "execution_count": null,
      "outputs": []
    },
    {
      "cell_type": "code",
      "source": [
        "cov=covariance(x,mean_x,y,mean_y)\n",
        "print(\"covariane is: %.3f\"%(cov))"
      ],
      "metadata": {
        "colab": {
          "base_uri": "https://localhost:8080/"
        },
        "id": "F3D1L6_wdH_Z",
        "outputId": "d1554448-b9dc-405d-d063-05bac57dac32"
      },
      "execution_count": null,
      "outputs": [
        {
          "output_type": "stream",
          "name": "stdout",
          "text": [
            "covariane is: 8.000\n"
          ]
        }
      ]
    },
    {
      "cell_type": "code",
      "source": [
        "#coefficient:\n",
        "b1=cov/variance_x\n",
        "b0=mean_y-(b1*mean_x)\n",
        "print(\"Coefficient b1:%.3f b0:%.3f\"%(b1,b0))"
      ],
      "metadata": {
        "colab": {
          "base_uri": "https://localhost:8080/"
        },
        "id": "HIqjOljld9Ck",
        "outputId": "729aaf6d-a60c-45ba-d8a3-1e6c4395bdc3"
      },
      "execution_count": null,
      "outputs": [
        {
          "output_type": "stream",
          "name": "stdout",
          "text": [
            "Coefficient b1:0.800 b0:0.400\n"
          ]
        }
      ]
    },
    {
      "cell_type": "code",
      "source": [
        "#rmse:\n",
        "from math import sqrt\n",
        "def rmse_metric(actual, predicted):\n",
        "\tsum_error = 0.0\n",
        "\tfor i in range(len(actual)):\n",
        "\t\tprediction_error = predicted[i] - actual[i]\n",
        "\t\tsum_error += (prediction_error ** 2)\n",
        "\tmean_error = sum_error /(len(actual))\n",
        "\treturn sqrt(mean_error)"
      ],
      "metadata": {
        "id": "0OrCwbotgPIl"
      },
      "execution_count": null,
      "outputs": []
    },
    {
      "cell_type": "code",
      "source": [
        "#linear regression:\n",
        "def simple_linear_regression(test):\n",
        "\tpredictions = list()\n",
        "\tfor row in test:\n",
        "\t\tyhat = b0 + (b1 * row)\n",
        "\t\tpredictions.append(yhat)\n",
        "\treturn predictions"
      ],
      "metadata": {
        "id": "A_gj2C1ah-Xk"
      },
      "execution_count": null,
      "outputs": []
    },
    {
      "cell_type": "code",
      "source": [
        "#evaluate:\n",
        "def evaluate():\n",
        "  train=x\n",
        "  actual=y\n",
        "  predicted=simple_linear_regression(x)\n",
        "  print(\"Predicted Value is:\",predicted)\n",
        "  rmse=rmse_metric(y,predicted)\n",
        "  print(\"rmse Value is:%.3f\"%(rmse))"
      ],
      "metadata": {
        "id": "RncWuG1oi0lE"
      },
      "execution_count": null,
      "outputs": []
    },
    {
      "cell_type": "code",
      "source": [
        "evaluate()"
      ],
      "metadata": {
        "colab": {
          "base_uri": "https://localhost:8080/"
        },
        "id": "-FzH3ZymlTAP",
        "outputId": "789d2782-ad9a-4903-cac3-798d5b2e426e"
      },
      "execution_count": null,
      "outputs": [
        {
          "output_type": "stream",
          "name": "stdout",
          "text": [
            "Predicted Value is: [86714.0, 1557.2000000000003, 1052.4, 99538.0, 32095.600000000002, 45736.4, 1885.2000000000003, 1182.0000000000002, 36171.600000000006, 852.4, 416.4, 38598.8, 898.8000000000001, 1871.6000000000001, 598.8, 21.2, 19307.600000000002, 520.4, 27.6, 18490.800000000003, 491.6, 758.8000000000001, 762.0, 250.8, 23282.800000000003, 622.0, 329.2, 1678.8000000000002, 582.0, 350.8, 0.39999999999999947, 2055.6000000000004, 491.6, 432.4, 17729.2, 926.0, 48974.00000000001, 1006.8000000000001, 330.0, 1327.6000000000001, 1111.6000000000001, 48162.00000000001, 32945.200000000004, 29722.000000000004, 44130.00000000001, 3338.8, 897.2, 2234.0, 701.2, 271.59999999999997, 13714.0, 1114.8000000000002, 1065.2, 1226.0000000000002, 684.4, 23306.800000000003, 24155.600000000002, 19310.000000000004, 790.0, 24967.600000000002, 1196.4, 42595.600000000006, 20950.000000000004]\n",
            "rmse Value is:24611.781\n"
          ]
        }
      ]
    },
    {
      "cell_type": "code",
      "source": [
        "import pandas as pd\n",
        "df=pd.read_csv('Insurance_clean.csv',encoding=\"utf-8\",sep=\",\")\n",
        "\n",
        "\n",
        "df[\"X\"] = df[\"X\"].str.replace(\"\\t\",\"\")\n",
        "df[\"X\"]=df[\"X\"].astype(int)\n",
        "\n",
        "df[\"X\"]\n",
        "df[\"y\"]\n"
      ],
      "metadata": {
        "colab": {
          "base_uri": "https://localhost:8080/"
        },
        "id": "Cc0srTaUnfOu",
        "outputId": "9f5d38df-4383-4758-8926-73d08e0cf571"
      },
      "execution_count": null,
      "outputs": [
        {
          "output_type": "execute_result",
          "data": {
            "text/plain": [
              "0     5.0\n",
              "1     2.0\n",
              "2     7.0\n",
              "3     2.0\n",
              "4     4.0\n",
              "     ... \n",
              "58    4.0\n",
              "59    8.0\n",
              "60    5.0\n",
              "61    6.0\n",
              "62    5.0\n",
              "Name: y, Length: 63, dtype: float64"
            ]
          },
          "metadata": {},
          "execution_count": 120
        }
      ]
    },
    {
      "cell_type": "code",
      "source": [
        "df[\"y\"]=df[\"y\"].fillna(df[\"y\"].mean())\n",
        "df.head(10)"
      ],
      "metadata": {
        "colab": {
          "base_uri": "https://localhost:8080/",
          "height": 363
        },
        "id": "UIBu0FFG9aeL",
        "outputId": "7816f19a-54b3-4f45-c5fa-c9750352182a"
      },
      "execution_count": null,
      "outputs": [
        {
          "output_type": "execute_result",
          "data": {
            "text/plain": [
              "        X         y\n",
              "0  108392  5.000000\n",
              "1    1946  2.000000\n",
              "2    1315  7.000000\n",
              "3  124422  2.000000\n",
              "4   40119  4.000000\n",
              "5   57170  9.000000\n",
              "6    2356  9.000000\n",
              "7    1477  5.000000\n",
              "8   45214  5.220339\n",
              "9    1065  3.000000"
            ],
            "text/html": [
              "\n",
              "  <div id=\"df-dcaaa607-eaaf-4e6f-8e09-3acbc5026306\">\n",
              "    <div class=\"colab-df-container\">\n",
              "      <div>\n",
              "<style scoped>\n",
              "    .dataframe tbody tr th:only-of-type {\n",
              "        vertical-align: middle;\n",
              "    }\n",
              "\n",
              "    .dataframe tbody tr th {\n",
              "        vertical-align: top;\n",
              "    }\n",
              "\n",
              "    .dataframe thead th {\n",
              "        text-align: right;\n",
              "    }\n",
              "</style>\n",
              "<table border=\"1\" class=\"dataframe\">\n",
              "  <thead>\n",
              "    <tr style=\"text-align: right;\">\n",
              "      <th></th>\n",
              "      <th>X</th>\n",
              "      <th>y</th>\n",
              "    </tr>\n",
              "  </thead>\n",
              "  <tbody>\n",
              "    <tr>\n",
              "      <th>0</th>\n",
              "      <td>108392</td>\n",
              "      <td>5.000000</td>\n",
              "    </tr>\n",
              "    <tr>\n",
              "      <th>1</th>\n",
              "      <td>1946</td>\n",
              "      <td>2.000000</td>\n",
              "    </tr>\n",
              "    <tr>\n",
              "      <th>2</th>\n",
              "      <td>1315</td>\n",
              "      <td>7.000000</td>\n",
              "    </tr>\n",
              "    <tr>\n",
              "      <th>3</th>\n",
              "      <td>124422</td>\n",
              "      <td>2.000000</td>\n",
              "    </tr>\n",
              "    <tr>\n",
              "      <th>4</th>\n",
              "      <td>40119</td>\n",
              "      <td>4.000000</td>\n",
              "    </tr>\n",
              "    <tr>\n",
              "      <th>5</th>\n",
              "      <td>57170</td>\n",
              "      <td>9.000000</td>\n",
              "    </tr>\n",
              "    <tr>\n",
              "      <th>6</th>\n",
              "      <td>2356</td>\n",
              "      <td>9.000000</td>\n",
              "    </tr>\n",
              "    <tr>\n",
              "      <th>7</th>\n",
              "      <td>1477</td>\n",
              "      <td>5.000000</td>\n",
              "    </tr>\n",
              "    <tr>\n",
              "      <th>8</th>\n",
              "      <td>45214</td>\n",
              "      <td>5.220339</td>\n",
              "    </tr>\n",
              "    <tr>\n",
              "      <th>9</th>\n",
              "      <td>1065</td>\n",
              "      <td>3.000000</td>\n",
              "    </tr>\n",
              "  </tbody>\n",
              "</table>\n",
              "</div>\n",
              "      <button class=\"colab-df-convert\" onclick=\"convertToInteractive('df-dcaaa607-eaaf-4e6f-8e09-3acbc5026306')\"\n",
              "              title=\"Convert this dataframe to an interactive table.\"\n",
              "              style=\"display:none;\">\n",
              "        \n",
              "  <svg xmlns=\"http://www.w3.org/2000/svg\" height=\"24px\"viewBox=\"0 0 24 24\"\n",
              "       width=\"24px\">\n",
              "    <path d=\"M0 0h24v24H0V0z\" fill=\"none\"/>\n",
              "    <path d=\"M18.56 5.44l.94 2.06.94-2.06 2.06-.94-2.06-.94-.94-2.06-.94 2.06-2.06.94zm-11 1L8.5 8.5l.94-2.06 2.06-.94-2.06-.94L8.5 2.5l-.94 2.06-2.06.94zm10 10l.94 2.06.94-2.06 2.06-.94-2.06-.94-.94-2.06-.94 2.06-2.06.94z\"/><path d=\"M17.41 7.96l-1.37-1.37c-.4-.4-.92-.59-1.43-.59-.52 0-1.04.2-1.43.59L10.3 9.45l-7.72 7.72c-.78.78-.78 2.05 0 2.83L4 21.41c.39.39.9.59 1.41.59.51 0 1.02-.2 1.41-.59l7.78-7.78 2.81-2.81c.8-.78.8-2.07 0-2.86zM5.41 20L4 18.59l7.72-7.72 1.47 1.35L5.41 20z\"/>\n",
              "  </svg>\n",
              "      </button>\n",
              "      \n",
              "  <style>\n",
              "    .colab-df-container {\n",
              "      display:flex;\n",
              "      flex-wrap:wrap;\n",
              "      gap: 12px;\n",
              "    }\n",
              "\n",
              "    .colab-df-convert {\n",
              "      background-color: #E8F0FE;\n",
              "      border: none;\n",
              "      border-radius: 50%;\n",
              "      cursor: pointer;\n",
              "      display: none;\n",
              "      fill: #1967D2;\n",
              "      height: 32px;\n",
              "      padding: 0 0 0 0;\n",
              "      width: 32px;\n",
              "    }\n",
              "\n",
              "    .colab-df-convert:hover {\n",
              "      background-color: #E2EBFA;\n",
              "      box-shadow: 0px 1px 2px rgba(60, 64, 67, 0.3), 0px 1px 3px 1px rgba(60, 64, 67, 0.15);\n",
              "      fill: #174EA6;\n",
              "    }\n",
              "\n",
              "    [theme=dark] .colab-df-convert {\n",
              "      background-color: #3B4455;\n",
              "      fill: #D2E3FC;\n",
              "    }\n",
              "\n",
              "    [theme=dark] .colab-df-convert:hover {\n",
              "      background-color: #434B5C;\n",
              "      box-shadow: 0px 1px 3px 1px rgba(0, 0, 0, 0.15);\n",
              "      filter: drop-shadow(0px 1px 2px rgba(0, 0, 0, 0.3));\n",
              "      fill: #FFFFFF;\n",
              "    }\n",
              "  </style>\n",
              "\n",
              "      <script>\n",
              "        const buttonEl =\n",
              "          document.querySelector('#df-dcaaa607-eaaf-4e6f-8e09-3acbc5026306 button.colab-df-convert');\n",
              "        buttonEl.style.display =\n",
              "          google.colab.kernel.accessAllowed ? 'block' : 'none';\n",
              "\n",
              "        async function convertToInteractive(key) {\n",
              "          const element = document.querySelector('#df-dcaaa607-eaaf-4e6f-8e09-3acbc5026306');\n",
              "          const dataTable =\n",
              "            await google.colab.kernel.invokeFunction('convertToInteractive',\n",
              "                                                     [key], {});\n",
              "          if (!dataTable) return;\n",
              "\n",
              "          const docLinkHtml = 'Like what you see? Visit the ' +\n",
              "            '<a target=\"_blank\" href=https://colab.research.google.com/notebooks/data_table.ipynb>data table notebook</a>'\n",
              "            + ' to learn more about interactive tables.';\n",
              "          element.innerHTML = '';\n",
              "          dataTable['output_type'] = 'display_data';\n",
              "          await google.colab.output.renderOutput(dataTable, element);\n",
              "          const docLink = document.createElement('div');\n",
              "          docLink.innerHTML = docLinkHtml;\n",
              "          element.appendChild(docLink);\n",
              "        }\n",
              "      </script>\n",
              "    </div>\n",
              "  </div>\n",
              "  "
            ]
          },
          "metadata": {},
          "execution_count": 121
        }
      ]
    },
    {
      "cell_type": "code",
      "source": [
        "import matplotlib.pyplot as plt\n",
        "x=list(df['X'])\n",
        "y=list(df['y'])\n",
        "mean_x,mean_y=mean(x),mean(y)\n",
        "variance_x,variance_y=variance(x,mean_x),variance(y,mean_y)\n",
        "print(\"mean x is: %.3f variance y is: %.3f\"%(mean_x,variance_x))\n",
        "print(\"mean y is: %.3f variance y is: %.3f\"%(mean_y,variance_y))"
      ],
      "metadata": {
        "colab": {
          "base_uri": "https://localhost:8080/"
        },
        "id": "jR3yWII8qbRt",
        "outputId": "8571729f-d2c4-49ac-c130-bce0df9b044a"
      },
      "execution_count": null,
      "outputs": [
        {
          "output_type": "stream",
          "name": "stdout",
          "text": [
            "mean x is: 16438.175 variance y is: 42616339817.079\n",
            "mean y is: 5.220 variance y is: 442.136\n"
          ]
        }
      ]
    }
  ]
}