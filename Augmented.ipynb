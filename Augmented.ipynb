{
  "nbformat": 4,
  "nbformat_minor": 0,
  "metadata": {
    "colab": {
      "name": "Augmented.ipynb",
      "provenance": [],
      "collapsed_sections": []
    },
    "kernelspec": {
      "name": "python3",
      "display_name": "Python 3"
    },
    "language_info": {
      "name": "python"
    }
  },
  "cells": [
    {
      "cell_type": "code",
      "source": [
        "from keras.preprocessing.image import ImageDataGenerator\n",
        "from skimage import io\n",
        "import numpy as np\n",
        "from PIL import Image"
      ],
      "metadata": {
        "id": "yjK3ZDBpKw7l"
      },
      "execution_count": null,
      "outputs": []
    },
    {
      "cell_type": "markdown",
      "source": [
        "Augment from Directory:"
      ],
      "metadata": {
        "id": "-biOyy2yLmBe"
      }
    },
    {
      "cell_type": "code",
      "execution_count": null,
      "metadata": {
        "id": "b6tVJQHkKime"
      },
      "outputs": [],
      "source": [
        "datagen = ImageDataGenerator(     \n",
        "             rescale = 1./255,#[0,1]\n",
        "             rotation_range=40,\n",
        "             width_shift_range=0.2,\n",
        "             height_shift_range=0.2,\n",
        "             shear_range=0.2,\n",
        "             zoom_range=0.2,\n",
        "             horizontal_flip=True,\n",
        "             fill_mode='nearest')\n",
        "\n",
        "image_directory = '/content/Dataset/Birds/parrots/'\n",
        "SIZE = 200\n",
        "dataset = []\n",
        "my_images = os.listdir(image_directory)\n",
        "count=0\n",
        "for i, image_name in enumerate(my_images):    \n",
        "     if (image_name.split('.')[1] == 'jpg'):        \n",
        "         image = io.imread(image_directory + image_name)        \n",
        "         image = Image.fromarray(image, 'RGB')        \n",
        "         image = image.resize((SIZE,SIZE)) \n",
        "         dataset.append(np.array(image))\n",
        "\n",
        "x = np.array(dataset)\n",
        "print(len(x))\n",
        "\n",
        "i = 0\n",
        "for batch in datagen.flow(x, batch_size=200,\n",
        "                          save_to_dir='augmented',\n",
        "                          save_prefix='aug',\n",
        "                          save_format='jpg'):   \n",
        "  print(len(batch))     \n",
        "  i += 1   \n",
        " \n",
        "  if i > 2:        \n",
        "    break"
      ]
    },
    {
      "cell_type": "markdown",
      "source": [
        "Augment from DataFrame:"
      ],
      "metadata": {
        "id": "rgTpndJhLqQX"
      }
    },
    {
      "cell_type": "code",
      "source": [
        "datagen = ImageDataGenerator(\n",
        "            rescale=1./255,\n",
        "            rotation_range=45,\n",
        "            vertical_flip=True,\n",
        "            width_shift_range=0.2,\n",
        "            height_shift_range=0.3,\n",
        "            shear_range=0.2,\n",
        "            zoom_range=0.2,\n",
        "            horizontal_flip=True,\n",
        "            fill_mode='nearest')\n",
        "for j in range(0,len(x_train)):\n",
        "  x = io.imread(x_train.iloc[j,0])\n",
        "  x = x.reshape((1, ) + x.shape)\n",
        "  i = 0\n",
        "  for batch in datagen.flow(x, batch_size=16,\n",
        "                            save_to_dir='augmented',\n",
        "                            save_prefix='aug',\n",
        "                            save_format='jpg'):\n",
        "    i += 1\n",
        "    if i > 1:\n",
        "       break"
      ],
      "metadata": {
        "id": "UCZ5SQ2KLtZw"
      },
      "execution_count": null,
      "outputs": []
    }
  ]
}