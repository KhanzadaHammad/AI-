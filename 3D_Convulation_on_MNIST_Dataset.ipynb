{
  "nbformat": 4,
  "nbformat_minor": 0,
  "metadata": {
    "colab": {
      "name": "3D Convulation on MNIST Dataset.ipynb",
      "provenance": []
    },
    "kernelspec": {
      "name": "python3",
      "display_name": "Python 3"
    },
    "language_info": {
      "name": "python"
    },
    "accelerator": "GPU"
  },
  "cells": [
    {
      "cell_type": "markdown",
      "source": [
        "Conv3D example of MNIST Datatset with TensorFlow "
      ],
      "metadata": {
        "id": "3jKSoZP6_tQn"
      }
    },
    {
      "cell_type": "code",
      "execution_count": 1,
      "metadata": {
        "id": "jDyV0G6y0TAZ"
      },
      "outputs": [],
      "source": [
        "import tensorflow\n",
        "from tensorflow.keras.models import Sequential\n",
        "from tensorflow.keras.layers import Dense, Flatten, Conv3D, MaxPooling3D\n",
        "from tensorflow.keras.utils import to_categorical\n",
        "import h5py\n",
        "#h5py is for .h5 files\n",
        "import numpy as np\n",
        "import matplotlib.pyplot as plt\n",
        "import os"
      ]
    },
    {
      "cell_type": "code",
      "source": [
        "from google.colab import files\n",
        "uploaded = files.upload()"
      ],
      "metadata": {
        "colab": {
          "resources": {
            "http://localhost:8080/nbextensions/google.colab/files.js": {
              "data": "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",
              "ok": true,
              "headers": [
                [
                  "content-type",
                  "application/javascript"
                ]
              ],
              "status": 200,
              "status_text": "OK"
            }
          },
          "base_uri": "https://localhost:8080/",
          "height": 74
        },
        "id": "xr9fk1SXAaOC",
        "outputId": "012f8b77-31da-44f5-b264-ba72951460d3"
      },
      "execution_count": 2,
      "outputs": [
        {
          "output_type": "display_data",
          "data": {
            "text/plain": [
              "<IPython.core.display.HTML object>"
            ],
            "text/html": [
              "\n",
              "     <input type=\"file\" id=\"files-4b9f5ce3-df36-4234-ace8-b79a997b68bc\" name=\"files[]\" multiple disabled\n",
              "        style=\"border:none\" />\n",
              "     <output id=\"result-4b9f5ce3-df36-4234-ace8-b79a997b68bc\">\n",
              "      Upload widget is only available when the cell has been executed in the\n",
              "      current browser session. Please rerun this cell to enable.\n",
              "      </output>\n",
              "      <script src=\"/nbextensions/google.colab/files.js\"></script> "
            ]
          },
          "metadata": {}
        },
        {
          "output_type": "stream",
          "name": "stdout",
          "text": [
            "Saving kaggle.json to kaggle.json\n"
          ]
        }
      ]
    },
    {
      "cell_type": "code",
      "source": [
        "os.environ['KAGGLE_CONFICT_DIR']='/content'\n",
        "! mkdir ~/.kaggle\n",
        "! cp kaggle.json ~/.kaggle/"
      ],
      "metadata": {
        "id": "SzsAQcvgAaLn"
      },
      "execution_count": 3,
      "outputs": []
    },
    {
      "cell_type": "markdown",
      "source": [
        "### https://www.kaggle.com/daavoo/3d-mnist"
      ],
      "metadata": {
        "id": "g5MgMLH0DEg1"
      }
    },
    {
      "cell_type": "code",
      "source": [
        "! kaggle datasets download -d daavoo/3d-mnist"
      ],
      "metadata": {
        "colab": {
          "base_uri": "https://localhost:8080/"
        },
        "id": "YNmN5aY0AaIH",
        "outputId": "c7f9186a-4298-4bf2-d089-65fde53833bf"
      },
      "execution_count": 4,
      "outputs": [
        {
          "output_type": "stream",
          "name": "stdout",
          "text": [
            "Warning: Your Kaggle API key is readable by other users on this system! To fix this, you can run 'chmod 600 /root/.kaggle/kaggle.json'\n",
            "Downloading 3d-mnist.zip to /content\n",
            " 86% 131M/153M [00:01<00:00, 102MB/s] \n",
            "100% 153M/153M [00:01<00:00, 98.0MB/s]\n"
          ]
        }
      ]
    },
    {
      "cell_type": "code",
      "source": [
        "! unzip 3d-mnist.zip"
      ],
      "metadata": {
        "colab": {
          "base_uri": "https://localhost:8080/"
        },
        "id": "uPjEAKhbAaC9",
        "outputId": "8f9b918c-e89b-409c-f6a1-454310ccb7e5"
      },
      "execution_count": 5,
      "outputs": [
        {
          "output_type": "stream",
          "name": "stdout",
          "text": [
            "Archive:  3d-mnist.zip\n",
            "  inflating: full_dataset_vectors.h5  \n",
            "  inflating: plot3D.py               \n",
            "  inflating: test_point_clouds.h5    \n",
            "  inflating: train_point_clouds.h5   \n",
            "  inflating: voxelgrid.py            \n"
          ]
        }
      ]
    },
    {
      "cell_type": "markdown",
      "source": [
        "Helper Functions:"
      ],
      "metadata": {
        "id": "3aREVuiPC0vd"
      }
    },
    {
      "cell_type": "code",
      "source": [
        "# Convert 1D vector into 3D values, provided by the 3D MNIST\n",
        "# array_to_color, it does is this: the imported data will be of one channel only.\n",
        "# This function converts the data into RGB format, and hence into three channels. \n",
        "# This ensures resemblence with the original 2D scenario.\n",
        "def array_to_color(array, cmap=\"Oranges\"):\n",
        "  s_m = plt.cm.ScalarMappable(cmap=cmap)\n",
        "  return s_m.to_rgba(array)[:,:-1]\n",
        "# now dataset is 3 channel\n",
        "# Reshape data into format that can be handled by Conv3D layers.\n",
        "def rgb_data_transform(data):\n",
        "  data_t = []\n",
        "  for i in range(data.shape[0]):\n",
        "    data_t.append(array_to_color(data[i]).reshape(16, 16, 16, 3))\n",
        "  return np.asarray(data_t, dtype=np.float32)"
      ],
      "metadata": {
        "id": "ZF526qGHC0TP"
      },
      "execution_count": 7,
      "outputs": []
    },
    {
      "cell_type": "markdown",
      "source": [
        "Data preparation:"
      ],
      "metadata": {
        "id": "jz8xXvw0CEiu"
      }
    },
    {
      "cell_type": "code",
      "source": [
        "# Load the HDF5 data file\n",
        "with h5py.File(\"./full_dataset_vectors.h5\", \"r\") as hf:    \n",
        "\n",
        "    # Split the data into training/test features/targets\n",
        "    X_train = hf[\"X_train\"][:]\n",
        "    targets_train = hf[\"y_train\"][:]\n",
        "    X_test = hf[\"X_test\"][:] \n",
        "    targets_test = hf[\"y_test\"][:]\n",
        "\n",
        "    # Determine sample shape\n",
        "    sample_shape = (16, 16, 16, 3)\n",
        "\n",
        "    # Reshape data into 3D format\n",
        "    X_train = rgb_data_transform(X_train)\n",
        "    X_test = rgb_data_transform(X_test)\n",
        "\n",
        "    # Convert target vectors to categorical targets\n",
        "    targets_train = to_categorical(targets_train).astype(np.integer)\n",
        "    targets_test = to_categorical(targets_test).astype(np.integer)"
      ],
      "metadata": {
        "colab": {
          "base_uri": "https://localhost:8080/"
        },
        "id": "VVQOEjA6BnCo",
        "outputId": "d858e328-c1a7-4cdc-93b5-926f3fafa737"
      },
      "execution_count": 8,
      "outputs": [
        {
          "output_type": "stream",
          "name": "stderr",
          "text": [
            "/usr/local/lib/python3.7/dist-packages/ipykernel_launcher.py:18: DeprecationWarning: Converting `np.integer` or `np.signedinteger` to a dtype is deprecated. The current result is `np.dtype(np.int_)` which is not strictly correct. Note that the result depends on the system. To ensure stable results use may want to use `np.int64` or `np.int32`.\n",
            "/usr/local/lib/python3.7/dist-packages/ipykernel_launcher.py:19: DeprecationWarning: Converting `np.integer` or `np.signedinteger` to a dtype is deprecated. The current result is `np.dtype(np.int_)` which is not strictly correct. Note that the result depends on the system. To ensure stable results use may want to use `np.int64` or `np.int32`.\n"
          ]
        }
      ]
    },
    {
      "cell_type": "code",
      "source": [
        "# Model configuration\n",
        "batch_size = 100\n",
        "no_epochs = 30\n",
        "learning_rate = 0.001\n",
        "no_classes = 10\n",
        "validation_split = 0.2\n",
        "verbosity = 1"
      ],
      "metadata": {
        "id": "TgZsm4EMEcFA"
      },
      "execution_count": 9,
      "outputs": []
    },
    {
      "cell_type": "code",
      "source": [
        "# Create the model\n",
        "model = Sequential()\n",
        "model.add(Conv3D(32, kernel_size=(3, 3, 3), activation='relu', kernel_initializer='he_uniform', input_shape=sample_shape))\n",
        "model.add(MaxPooling3D(pool_size=(2, 2, 2)))\n",
        "model.add(Conv3D(64, kernel_size=(3, 3, 3), activation='relu', kernel_initializer='he_uniform'))\n",
        "model.add(MaxPooling3D(pool_size=(2, 2, 2)))\n",
        "model.add(Flatten())\n",
        "model.add(Dense(256, activation='relu', kernel_initializer='he_uniform'))\n",
        "model.add(Dense(no_classes, activation='softmax'))"
      ],
      "metadata": {
        "id": "jPWchmFAEQfU"
      },
      "execution_count": 10,
      "outputs": []
    },
    {
      "cell_type": "code",
      "source": [
        "# Compile the model\n",
        "model.compile(loss=tensorflow.keras.losses.categorical_crossentropy,\n",
        "              optimizer=tensorflow.keras.optimizers.Adam(lr=learning_rate),\n",
        "              metrics=['accuracy'])\n",
        "\n",
        "# Fit data to model\n",
        "history = model.fit(X_train, targets_train,\n",
        "            batch_size=batch_size,\n",
        "            epochs=no_epochs,\n",
        "            verbose=verbosity,\n",
        "            validation_split=validation_split)"
      ],
      "metadata": {
        "colab": {
          "base_uri": "https://localhost:8080/"
        },
        "id": "TJRw3Z-9ERoW",
        "outputId": "1da7a4d7-72e1-4fbf-f534-d849e2866803"
      },
      "execution_count": 11,
      "outputs": [
        {
          "output_type": "stream",
          "name": "stderr",
          "text": [
            "/usr/local/lib/python3.7/dist-packages/keras/optimizer_v2/adam.py:105: UserWarning: The `lr` argument is deprecated, use `learning_rate` instead.\n",
            "  super(Adam, self).__init__(name, **kwargs)\n"
          ]
        },
        {
          "output_type": "stream",
          "name": "stdout",
          "text": [
            "Epoch 1/30\n",
            "80/80 [==============================] - 12s 17ms/step - loss: 2.2495 - accuracy: 0.2017 - val_loss: 1.9352 - val_accuracy: 0.3660\n",
            "Epoch 2/30\n",
            "80/80 [==============================] - 1s 14ms/step - loss: 1.7678 - accuracy: 0.4079 - val_loss: 1.5515 - val_accuracy: 0.4745\n",
            "Epoch 3/30\n",
            "80/80 [==============================] - 1s 14ms/step - loss: 1.4662 - accuracy: 0.5071 - val_loss: 1.3596 - val_accuracy: 0.5350\n",
            "Epoch 4/30\n",
            "80/80 [==============================] - 1s 14ms/step - loss: 1.2883 - accuracy: 0.5558 - val_loss: 1.2633 - val_accuracy: 0.5725\n",
            "Epoch 5/30\n",
            "80/80 [==============================] - 1s 13ms/step - loss: 1.1995 - accuracy: 0.5829 - val_loss: 1.2010 - val_accuracy: 0.5870\n",
            "Epoch 6/30\n",
            "80/80 [==============================] - 1s 14ms/step - loss: 1.1014 - accuracy: 0.6136 - val_loss: 1.1361 - val_accuracy: 0.6080\n",
            "Epoch 7/30\n",
            "80/80 [==============================] - 1s 13ms/step - loss: 1.0518 - accuracy: 0.6346 - val_loss: 1.1126 - val_accuracy: 0.6175\n",
            "Epoch 8/30\n",
            "80/80 [==============================] - 1s 13ms/step - loss: 1.0168 - accuracy: 0.6459 - val_loss: 1.0920 - val_accuracy: 0.6280\n",
            "Epoch 9/30\n",
            "80/80 [==============================] - 1s 13ms/step - loss: 0.9397 - accuracy: 0.6775 - val_loss: 1.0986 - val_accuracy: 0.6245\n",
            "Epoch 10/30\n",
            "80/80 [==============================] - 1s 14ms/step - loss: 0.9036 - accuracy: 0.6884 - val_loss: 1.1037 - val_accuracy: 0.6270\n",
            "Epoch 11/30\n",
            "80/80 [==============================] - 1s 14ms/step - loss: 0.8575 - accuracy: 0.7045 - val_loss: 1.0406 - val_accuracy: 0.6425\n",
            "Epoch 12/30\n",
            "80/80 [==============================] - 1s 14ms/step - loss: 0.8177 - accuracy: 0.7235 - val_loss: 1.0266 - val_accuracy: 0.6545\n",
            "Epoch 13/30\n",
            "80/80 [==============================] - 1s 13ms/step - loss: 0.7912 - accuracy: 0.7309 - val_loss: 1.0747 - val_accuracy: 0.6375\n",
            "Epoch 14/30\n",
            "80/80 [==============================] - 1s 14ms/step - loss: 0.7640 - accuracy: 0.7394 - val_loss: 1.0750 - val_accuracy: 0.6510\n",
            "Epoch 15/30\n",
            "80/80 [==============================] - 1s 13ms/step - loss: 0.7125 - accuracy: 0.7561 - val_loss: 1.0395 - val_accuracy: 0.6585\n",
            "Epoch 16/30\n",
            "80/80 [==============================] - 1s 14ms/step - loss: 0.6628 - accuracy: 0.7791 - val_loss: 1.0456 - val_accuracy: 0.6590\n",
            "Epoch 17/30\n",
            "80/80 [==============================] - 1s 14ms/step - loss: 0.6331 - accuracy: 0.7866 - val_loss: 1.0418 - val_accuracy: 0.6600\n",
            "Epoch 18/30\n",
            "80/80 [==============================] - 1s 14ms/step - loss: 0.6052 - accuracy: 0.7958 - val_loss: 1.0770 - val_accuracy: 0.6540\n",
            "Epoch 19/30\n",
            "80/80 [==============================] - 1s 14ms/step - loss: 0.5620 - accuracy: 0.8149 - val_loss: 1.0487 - val_accuracy: 0.6685\n",
            "Epoch 20/30\n",
            "80/80 [==============================] - 1s 14ms/step - loss: 0.5264 - accuracy: 0.8249 - val_loss: 1.0999 - val_accuracy: 0.6635\n",
            "Epoch 21/30\n",
            "80/80 [==============================] - 1s 13ms/step - loss: 0.5015 - accuracy: 0.8334 - val_loss: 1.1270 - val_accuracy: 0.6565\n",
            "Epoch 22/30\n",
            "80/80 [==============================] - 1s 14ms/step - loss: 0.4694 - accuracy: 0.8461 - val_loss: 1.1003 - val_accuracy: 0.6620\n",
            "Epoch 23/30\n",
            "80/80 [==============================] - 1s 14ms/step - loss: 0.4322 - accuracy: 0.8533 - val_loss: 1.1249 - val_accuracy: 0.6650\n",
            "Epoch 24/30\n",
            "80/80 [==============================] - 1s 13ms/step - loss: 0.4171 - accuracy: 0.8609 - val_loss: 1.2220 - val_accuracy: 0.6550\n",
            "Epoch 25/30\n",
            "80/80 [==============================] - 1s 14ms/step - loss: 0.3913 - accuracy: 0.8687 - val_loss: 1.1770 - val_accuracy: 0.6690\n",
            "Epoch 26/30\n",
            "80/80 [==============================] - 1s 14ms/step - loss: 0.3412 - accuracy: 0.8913 - val_loss: 1.2049 - val_accuracy: 0.6590\n",
            "Epoch 27/30\n",
            "80/80 [==============================] - 1s 14ms/step - loss: 0.3221 - accuracy: 0.8966 - val_loss: 1.2345 - val_accuracy: 0.6650\n",
            "Epoch 28/30\n",
            "80/80 [==============================] - 1s 13ms/step - loss: 0.2962 - accuracy: 0.9059 - val_loss: 1.2837 - val_accuracy: 0.6520\n",
            "Epoch 29/30\n",
            "80/80 [==============================] - 1s 13ms/step - loss: 0.2622 - accuracy: 0.9206 - val_loss: 1.2811 - val_accuracy: 0.6655\n",
            "Epoch 30/30\n",
            "80/80 [==============================] - 1s 13ms/step - loss: 0.2423 - accuracy: 0.9271 - val_loss: 1.3427 - val_accuracy: 0.6575\n"
          ]
        }
      ]
    },
    {
      "cell_type": "markdown",
      "source": [
        "Model Evaluation:"
      ],
      "metadata": {
        "id": "m9trg9-3Ek_f"
      }
    },
    {
      "cell_type": "code",
      "source": [
        "# Generate generalization metrics\n",
        "score = model.evaluate(X_test, targets_test, verbose=0)\n",
        "print(f'Test loss: {score[0]} / Test accuracy: {score[1]}')\n",
        "\n",
        "# Plot history: Categorical crossentropy & Accuracy\n",
        "plt.plot(history.history['loss'], label='Categorical crossentropy (training data)')\n",
        "plt.plot(history.history['val_loss'], label='Categorical crossentropy (validation data)')\n",
        "plt.plot(history.history['accuracy'], label='Accuracy (training data)')\n",
        "plt.plot(history.history['val_accuracy'], label='Accuracy (validation data)')\n",
        "plt.title('Model performance for 3D MNIST Keras Conv3D example')\n",
        "plt.ylabel('Loss value')\n",
        "plt.xlabel('No. epoch')\n",
        "plt.legend(loc=\"upper left\")\n",
        "plt.show()"
      ],
      "metadata": {
        "colab": {
          "base_uri": "https://localhost:8080/",
          "height": 313
        },
        "id": "XWQ0-AaBEpLk",
        "outputId": "12d67959-a218-4dcf-f150-2db02ca1fdee"
      },
      "execution_count": 12,
      "outputs": [
        {
          "output_type": "stream",
          "name": "stdout",
          "text": [
            "Test loss: 1.2993866205215454 / Test accuracy: 0.6710000038146973\n"
          ]
        },
        {
          "output_type": "display_data",
          "data": {
            "text/plain": [
              "<Figure size 432x288 with 1 Axes>"
            ],
            "image/png": "[encoded data removed]"
          },
          "metadata": {
            "needs_background": "light"
          }
        }
      ]
    },
    {
      "cell_type": "markdown",
      "source": [
        "ADD Droupout"
      ],
      "metadata": {
        "id": "t68gIebrFjQB"
      }
    },
    {
      "cell_type": "code",
      "source": [
        "from tensorflow.keras.layers import Dropout"
      ],
      "metadata": {
        "id": "2akNH36JGIen"
      },
      "execution_count": 13,
      "outputs": []
    },
    {
      "cell_type": "code",
      "source": [
        "# Create the model\n",
        "model2 = Sequential()\n",
        "model2.add(Conv3D(32, kernel_size=(3, 3, 3), activation='relu', kernel_initializer='he_uniform',padding='same', input_shape=sample_shape))\n",
        "model2.add(MaxPooling3D(pool_size=(2, 2, 2)))\n",
        "model2.add(Dropout(0.5))\n",
        "model2.add(Conv3D(64, kernel_size=(3, 3, 3), activation='relu', kernel_initializer='he_uniform',padding='same'))\n",
        "model2.add(MaxPooling3D(pool_size=(2, 2, 2)))\n",
        "model2.add(Dropout(0.5))\n",
        "model2.add(Conv3D(128, kernel_size=(3, 3, 3), activation='relu', kernel_initializer='he_uniform',padding='same'))\n",
        "model2.add(MaxPooling3D(pool_size=(2, 2, 2)))\n",
        "model2.add(Dropout(0.5))\n",
        "model2.add(Flatten())\n",
        "model2.add(Dense(256, activation='relu', kernel_initializer='he_uniform'))\n",
        "model2.add(Dense(no_classes, activation='softmax'))"
      ],
      "metadata": {
        "id": "RCkhLUxhFjAe"
      },
      "execution_count": 31,
      "outputs": []
    },
    {
      "cell_type": "code",
      "source": [
        "tensorflow.keras.backend.clear_session()\n",
        "# Compile the model\n",
        "model2.compile(loss=tensorflow.keras.losses.categorical_crossentropy,\n",
        "              optimizer=tensorflow.keras.optimizers.Adam(lr=learning_rate),\n",
        "              metrics=['accuracy'])\n",
        "\n",
        "# Fit data to model\n",
        "history = model2.fit(X_train, targets_train,\n",
        "            batch_size=batch_size,\n",
        "            epochs=50,\n",
        "            verbose=verbosity,\n",
        "            validation_split=validation_split)"
      ],
      "metadata": {
        "colab": {
          "base_uri": "https://localhost:8080/"
        },
        "id": "4GSVMcgAGSZG",
        "outputId": "2ba6594f-f9a2-4958-ad9a-7f1e0fc8bb21"
      },
      "execution_count": 33,
      "outputs": [
        {
          "output_type": "stream",
          "name": "stderr",
          "text": [
            "/usr/local/lib/python3.7/dist-packages/keras/optimizer_v2/adam.py:105: UserWarning: The `lr` argument is deprecated, use `learning_rate` instead.\n",
            "  super(Adam, self).__init__(name, **kwargs)\n"
          ]
        },
        {
          "output_type": "stream",
          "name": "stdout",
          "text": [
            "Epoch 1/50\n",
            "80/80 [==============================] - 4s 29ms/step - loss: 2.9982 - accuracy: 0.0993 - val_loss: 2.3017 - val_accuracy: 0.1185\n",
            "Epoch 2/50\n",
            "80/80 [==============================] - 2s 25ms/step - loss: 2.3041 - accuracy: 0.1074 - val_loss: 2.3015 - val_accuracy: 0.1050\n",
            "Epoch 3/50\n",
            "80/80 [==============================] - 2s 26ms/step - loss: 2.3026 - accuracy: 0.1021 - val_loss: 2.3010 - val_accuracy: 0.1050\n",
            "Epoch 4/50\n",
            "80/80 [==============================] - 2s 26ms/step - loss: 2.3023 - accuracy: 0.1056 - val_loss: 2.3008 - val_accuracy: 0.1190\n",
            "Epoch 5/50\n",
            "80/80 [==============================] - 2s 24ms/step - loss: 2.3018 - accuracy: 0.1066 - val_loss: 2.3007 - val_accuracy: 0.1190\n",
            "Epoch 6/50\n",
            "80/80 [==============================] - 2s 24ms/step - loss: 2.3012 - accuracy: 0.1077 - val_loss: 2.3002 - val_accuracy: 0.1190\n",
            "Epoch 7/50\n",
            "80/80 [==============================] - 2s 26ms/step - loss: 2.3008 - accuracy: 0.1096 - val_loss: 2.3003 - val_accuracy: 0.1050\n",
            "Epoch 8/50\n",
            "80/80 [==============================] - 2s 24ms/step - loss: 2.2985 - accuracy: 0.1199 - val_loss: 2.2983 - val_accuracy: 0.1050\n",
            "Epoch 9/50\n",
            "80/80 [==============================] - 2s 26ms/step - loss: 2.2484 - accuracy: 0.1689 - val_loss: 2.1720 - val_accuracy: 0.2270\n",
            "Epoch 10/50\n",
            "80/80 [==============================] - 2s 24ms/step - loss: 2.1632 - accuracy: 0.2154 - val_loss: 2.0883 - val_accuracy: 0.3260\n",
            "Epoch 11/50\n",
            "80/80 [==============================] - 2s 24ms/step - loss: 2.0972 - accuracy: 0.2509 - val_loss: 2.0503 - val_accuracy: 0.3340\n",
            "Epoch 12/50\n",
            "80/80 [==============================] - 2s 27ms/step - loss: 2.0434 - accuracy: 0.2754 - val_loss: 1.9919 - val_accuracy: 0.3490\n",
            "Epoch 13/50\n",
            "80/80 [==============================] - 2s 26ms/step - loss: 1.9807 - accuracy: 0.2867 - val_loss: 1.9440 - val_accuracy: 0.3750\n",
            "Epoch 14/50\n",
            "80/80 [==============================] - 2s 24ms/step - loss: 1.8495 - accuracy: 0.3309 - val_loss: 1.7598 - val_accuracy: 0.4275\n",
            "Epoch 15/50\n",
            "80/80 [==============================] - 2s 26ms/step - loss: 1.7491 - accuracy: 0.3671 - val_loss: 1.6887 - val_accuracy: 0.4445\n",
            "Epoch 16/50\n",
            "80/80 [==============================] - 2s 26ms/step - loss: 1.6942 - accuracy: 0.3939 - val_loss: 1.6224 - val_accuracy: 0.4515\n",
            "Epoch 17/50\n",
            "80/80 [==============================] - 2s 26ms/step - loss: 1.6170 - accuracy: 0.4189 - val_loss: 1.5440 - val_accuracy: 0.5205\n",
            "Epoch 18/50\n",
            "80/80 [==============================] - 2s 24ms/step - loss: 1.5722 - accuracy: 0.4385 - val_loss: 1.4930 - val_accuracy: 0.5190\n",
            "Epoch 19/50\n",
            "80/80 [==============================] - 2s 26ms/step - loss: 1.5187 - accuracy: 0.4543 - val_loss: 1.4502 - val_accuracy: 0.5220\n",
            "Epoch 20/50\n",
            "80/80 [==============================] - 2s 26ms/step - loss: 1.4711 - accuracy: 0.4724 - val_loss: 1.3953 - val_accuracy: 0.5350\n",
            "Epoch 21/50\n",
            "80/80 [==============================] - 2s 26ms/step - loss: 1.4338 - accuracy: 0.4913 - val_loss: 1.3850 - val_accuracy: 0.5560\n",
            "Epoch 22/50\n",
            "80/80 [==============================] - 2s 25ms/step - loss: 1.4141 - accuracy: 0.5031 - val_loss: 1.3282 - val_accuracy: 0.5640\n",
            "Epoch 23/50\n",
            "80/80 [==============================] - 2s 26ms/step - loss: 1.3740 - accuracy: 0.5113 - val_loss: 1.3057 - val_accuracy: 0.5725\n",
            "Epoch 24/50\n",
            "80/80 [==============================] - 2s 25ms/step - loss: 1.3377 - accuracy: 0.5316 - val_loss: 1.2906 - val_accuracy: 0.5885\n",
            "Epoch 25/50\n",
            "80/80 [==============================] - 2s 25ms/step - loss: 1.3231 - accuracy: 0.5257 - val_loss: 1.2470 - val_accuracy: 0.6005\n",
            "Epoch 26/50\n",
            "80/80 [==============================] - 2s 26ms/step - loss: 1.2957 - accuracy: 0.5441 - val_loss: 1.2264 - val_accuracy: 0.5950\n",
            "Epoch 27/50\n",
            "80/80 [==============================] - 2s 24ms/step - loss: 1.2891 - accuracy: 0.5439 - val_loss: 1.2235 - val_accuracy: 0.6045\n",
            "Epoch 28/50\n",
            "80/80 [==============================] - 2s 25ms/step - loss: 1.2489 - accuracy: 0.5531 - val_loss: 1.2238 - val_accuracy: 0.6120\n",
            "Epoch 29/50\n",
            "80/80 [==============================] - 2s 25ms/step - loss: 1.2333 - accuracy: 0.5641 - val_loss: 1.1748 - val_accuracy: 0.6245\n",
            "Epoch 30/50\n",
            "80/80 [==============================] - 2s 24ms/step - loss: 1.2251 - accuracy: 0.5698 - val_loss: 1.2160 - val_accuracy: 0.6030\n",
            "Epoch 31/50\n",
            "80/80 [==============================] - 2s 25ms/step - loss: 1.2187 - accuracy: 0.5719 - val_loss: 1.1496 - val_accuracy: 0.6275\n",
            "Epoch 32/50\n",
            "80/80 [==============================] - 2s 25ms/step - loss: 1.2058 - accuracy: 0.5754 - val_loss: 1.1998 - val_accuracy: 0.6315\n",
            "Epoch 33/50\n",
            "80/80 [==============================] - 2s 24ms/step - loss: 1.1855 - accuracy: 0.5814 - val_loss: 1.1289 - val_accuracy: 0.6350\n",
            "Epoch 34/50\n",
            "80/80 [==============================] - 2s 26ms/step - loss: 1.1809 - accuracy: 0.5835 - val_loss: 1.1242 - val_accuracy: 0.6410\n",
            "Epoch 35/50\n",
            "80/80 [==============================] - 2s 25ms/step - loss: 1.1782 - accuracy: 0.5840 - val_loss: 1.1156 - val_accuracy: 0.6380\n",
            "Epoch 36/50\n",
            "80/80 [==============================] - 2s 24ms/step - loss: 1.1584 - accuracy: 0.5939 - val_loss: 1.1326 - val_accuracy: 0.6360\n",
            "Epoch 37/50\n",
            "80/80 [==============================] - 2s 24ms/step - loss: 1.1459 - accuracy: 0.5940 - val_loss: 1.0921 - val_accuracy: 0.6330\n",
            "Epoch 38/50\n",
            "80/80 [==============================] - 2s 26ms/step - loss: 1.1313 - accuracy: 0.6043 - val_loss: 1.0790 - val_accuracy: 0.6465\n",
            "Epoch 39/50\n",
            "80/80 [==============================] - 2s 24ms/step - loss: 1.1436 - accuracy: 0.6040 - val_loss: 1.0744 - val_accuracy: 0.6630\n",
            "Epoch 40/50\n",
            "80/80 [==============================] - 2s 24ms/step - loss: 1.1117 - accuracy: 0.6096 - val_loss: 1.0775 - val_accuracy: 0.6475\n",
            "Epoch 41/50\n",
            "80/80 [==============================] - 2s 24ms/step - loss: 1.1080 - accuracy: 0.6191 - val_loss: 1.0716 - val_accuracy: 0.6575\n",
            "Epoch 42/50\n",
            "80/80 [==============================] - 2s 25ms/step - loss: 1.0934 - accuracy: 0.6130 - val_loss: 1.0427 - val_accuracy: 0.6600\n",
            "Epoch 43/50\n",
            "80/80 [==============================] - 2s 26ms/step - loss: 1.0925 - accuracy: 0.6215 - val_loss: 1.0540 - val_accuracy: 0.6690\n",
            "Epoch 44/50\n",
            "80/80 [==============================] - 2s 24ms/step - loss: 1.0776 - accuracy: 0.6217 - val_loss: 1.0401 - val_accuracy: 0.6800\n",
            "Epoch 45/50\n",
            "80/80 [==============================] - 2s 24ms/step - loss: 1.0547 - accuracy: 0.6296 - val_loss: 1.0078 - val_accuracy: 0.6715\n",
            "Epoch 46/50\n",
            "80/80 [==============================] - 2s 25ms/step - loss: 1.0609 - accuracy: 0.6299 - val_loss: 1.0150 - val_accuracy: 0.6670\n",
            "Epoch 47/50\n",
            "80/80 [==============================] - 2s 24ms/step - loss: 1.0613 - accuracy: 0.6300 - val_loss: 1.0148 - val_accuracy: 0.6695\n",
            "Epoch 48/50\n",
            "80/80 [==============================] - 2s 25ms/step - loss: 1.0485 - accuracy: 0.6325 - val_loss: 1.0031 - val_accuracy: 0.6740\n",
            "Epoch 49/50\n",
            "80/80 [==============================] - 2s 24ms/step - loss: 1.0370 - accuracy: 0.6321 - val_loss: 0.9957 - val_accuracy: 0.6810\n",
            "Epoch 50/50\n",
            "80/80 [==============================] - 2s 25ms/step - loss: 1.0290 - accuracy: 0.6404 - val_loss: 0.9759 - val_accuracy: 0.6890\n"
          ]
        }
      ]
    },
    {
      "cell_type": "code",
      "source": [
        "# Generate generalization metrics\n",
        "score = model2.evaluate(X_test, targets_test, verbose=0)\n",
        "print(f'Test loss: {score[0]} / Test accuracy: {score[1]}')\n",
        "\n",
        "# Plot history: Categorical crossentropy & Accuracy\n",
        "plt.plot(history.history['loss'], label='Categorical crossentropy (training data)')\n",
        "plt.plot(history.history['val_loss'], label='Categorical crossentropy (validation data)')\n",
        "plt.plot(history.history['accuracy'], label='Accuracy (training data)')\n",
        "plt.plot(history.history['val_accuracy'], label='Accuracy (validation data)')\n",
        "plt.title('Model performance for 3D MNIST Keras Conv3D example')\n",
        "plt.ylabel('Loss value')\n",
        "plt.xlabel('No. epoch')\n",
        "plt.legend(loc=\"upper left\")\n",
        "plt.show()"
      ],
      "metadata": {
        "colab": {
          "base_uri": "https://localhost:8080/",
          "height": 313
        },
        "id": "6F6G4GrHGdIm",
        "outputId": "f1c67a8c-4390-4740-9fcb-6c825e7f6afc"
      },
      "execution_count": 34,
      "outputs": [
        {
          "output_type": "stream",
          "name": "stdout",
          "text": [
            "Test loss: 0.9572510123252869 / Test accuracy: 0.6759999990463257\n"
          ]
        },
        {
          "output_type": "display_data",
          "data": {
            "text/plain": [
              "<Figure size 432x288 with 1 Axes>"
            ],
            "image/png": "[encoded data removed]"
          },
          "metadata": {
            "needs_background": "light"
          }
        }
      ]
    }
  ]
}